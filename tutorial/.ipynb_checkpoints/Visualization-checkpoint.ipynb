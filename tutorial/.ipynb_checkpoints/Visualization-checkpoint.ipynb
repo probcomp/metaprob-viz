{
 "cells": [
  {
   "cell_type": "code",
   "execution_count": null,
   "metadata": {},
   "outputs": [],
   "source": [
    "(ns demo\n",
    "  (:require [metaprob-viz.notebook :as notebook]\n",
    "            [metaprob-viz.viz :as viz]))"
   ]
  },
  {
   "cell_type": "markdown",
   "metadata": {},
   "source": [
    "### start visualization server.\n",
    "The second argument is the port on which the server should listen."
   ]
  },
  {
   "cell_type": "code",
   "execution_count": null,
   "metadata": {},
   "outputs": [],
   "source": [
    "(viz/start-server! 8081)"
   ]
  },
  {
   "cell_type": "markdown",
   "metadata": {},
   "source": [
    "### declare a visualization\n",
    "\n",
    "There must be a \"renderer\" available at the indicated path (relative to the root of the running server process). "
   ]
  },
  {
   "cell_type": "code",
   "execution_count": null,
   "metadata": {},
   "outputs": [],
   "source": [
    "(def vid (viz/add-viz! \"public/vue/dist/\" [[-2.0 -1.0    0 1.0 2.0]\n",
    "                                           [-2.0 -1.0    0 1.0 2.0]]))"
   ]
  },
  {
   "cell_type": "code",
   "execution_count": null,
   "metadata": {},
   "outputs": [],
   "source": [
    "(viz/viz-url vid)"
   ]
  },
  {
   "cell_type": "markdown",
   "metadata": {},
   "source": [
    "### open the visualization in this notebook\n",
    "This will update in real time as it's updated. Initially there's nothing to visualize, so it'll be empty"
   ]
  },
  {
   "cell_type": "code",
   "execution_count": null,
   "metadata": {},
   "outputs": [],
   "source": [
    "(notebook/open-in-notebook vid)"
   ]
  },
  {
   "cell_type": "markdown",
   "metadata": {},
   "source": [
    "### Open visualization in new tab\n",
    "In certain instances, you may want to open this visualization in a new tab. We can't do that programmatically, but we can provide a link to the user so they can do it themselves (this can be extended to include javascript to open the link in a popup rather than tab)."
   ]
  },
  {
   "cell_type": "code",
   "execution_count": null,
   "metadata": {},
   "outputs": [],
   "source": [
    "(notebook/open-in-tab vid)"
   ]
  },
  {
   "cell_type": "markdown",
   "metadata": {},
   "source": [
    "### Add traces to visualization\n",
    "First we'll define a couple of example traces, then we'll use `put-trace!` to add them to the visualization."
   ]
  },
  {
   "cell_type": "code",
   "execution_count": null,
   "metadata": {},
   "outputs": [],
   "source": [
    ";; define a couple of example traces\n",
    "(def trace-0 {:slope 1.4\n",
    "              :intercept 0\n",
    "              :inlier_std 0.2\n",
    "              :outlier_std 1.2\n",
    "              :outliers [false false true false true]})\n",
    "\n",
    "(def trace-1 {:slope 0.5\n",
    "              :intercept -1\n",
    "              :inlier_std 0.1\n",
    "              :outlier_std 2.1\n",
    "              :outliers [false false true false true]})\n",
    "\n",
    ";; add those traces to the visualization\n",
    "(def t0-id (viz/put-trace! vid trace-0))\n",
    "(def t1-id (viz/put-trace! vid trace-1))"
   ]
  },
  {
   "cell_type": "markdown",
   "metadata": {},
   "source": [
    "### Update existing trace\n",
    "`put-trace!` takes an optional third argument- a trace ID. With the `dist` renderer, reusing an existing trace ID will lead the renderer to update the existing trace in place, enabling animation. This example will replace trace-1's\n",
    "plot with trace-0's data:"
   ]
  },
  {
   "cell_type": "code",
   "execution_count": null,
   "metadata": {},
   "outputs": [],
   "source": [
    "(viz/put-trace! vid trace-0 t1-id)"
   ]
  },
  {
   "cell_type": "markdown",
   "metadata": {},
   "source": [
    "...and this will return the plot to trace-1's data:"
   ]
  },
  {
   "cell_type": "code",
   "execution_count": null,
   "metadata": {},
   "outputs": [],
   "source": [
    "(viz/put-trace! vid trace-1 t1-id)"
   ]
  },
  {
   "cell_type": "markdown",
   "metadata": {},
   "source": [
    "### Add static trace with display-in-notebook\n",
    "`display-in-notebook` adds a static version of a visualization to the notebook. \n",
    "\n",
    "This function requires that either `open-in-tab` or `open-in-notebook` has been previously called with this visualization ID."
   ]
  },
  {
   "cell_type": "code",
   "execution_count": null,
   "metadata": {},
   "outputs": [],
   "source": [
    "(def vid2 (viz/add-viz! \"public/vue/dist/\" [[-2.0 -1.0    0 1.0 2.0]\n",
    "                                           [-2.0 -1.0    0 1.0 2.0]]))\n",
    "\n",
    "(notebook/open-in-tab vid2)"
   ]
  },
  {
   "cell_type": "code",
   "execution_count": 2,
   "metadata": {},
   "outputs": [
    {
     "data": {
      "text/html": [
       "<div data-v-5880b649=\"\"><h1 data-v-5880b649=\"\">Traces</h1><div data-v-5880b649=\"\" id=\"traces\"><div data-v-5880b649=\"\"><svg data-v-5880b649=\"\" xmlns=\"http://www.w3.org/2000/svg\" xmlns:xlink=\"http://www.w3.org/1999/xlink\" version=\"1.1\" height=\"500\" width=\"500\"><circle cx=\"50\" cy=\"450\" r=\"3\" fill=\"blue\"></circle><circle cx=\"150\" cy=\"350\" r=\"3\" fill=\"blue\"></circle><circle cx=\"250\" cy=\"250\" r=\"3\" fill=\"red\"></circle><circle cx=\"350\" cy=\"150\" r=\"3\" fill=\"blue\"></circle><circle cx=\"450\" cy=\"50\" r=\"3\" fill=\"red\"></circle><polygon points=\"-200,840 700,-419.9999999999999 700,-340 -200,920\" style=\"fill: rgba(0, 0, 0, 0.3);\"></polygon><line x1=\"0\" y1=\"250\" x2=\"500\" y2=\"250\" style=\"stroke: rgba(0, 0, 0, 0.1); stroke-width: 480;\"></line><line x1=\"-200\" y1=\"880\" x2=\"700\" y2=\"-380.0000000000001\" style=\"stroke: rgba(0, 0, 0, 0.7); stroke-width: 2;\"></line></svg></div><div data-v-5880b649=\"\"><svg data-v-5880b649=\"\" xmlns=\"http://www.w3.org/2000/svg\" xmlns:xlink=\"http://www.w3.org/1999/xlink\" version=\"1.1\" height=\"500\" width=\"500\"><circle cx=\"50\" cy=\"450\" r=\"3\" fill=\"blue\"></circle><circle cx=\"150\" cy=\"350\" r=\"3\" fill=\"blue\"></circle><circle cx=\"250\" cy=\"250\" r=\"3\" fill=\"red\"></circle><circle cx=\"350\" cy=\"150\" r=\"3\" fill=\"blue\"></circle><circle cx=\"450\" cy=\"50\" r=\"3\" fill=\"red\"></circle><polygon points=\"-200,555 700,105 700,145 -200,595\" style=\"fill: rgba(0, 0, 0, 0.3);\"></polygon><line x1=\"0\" y1=\"250\" x2=\"500\" y2=\"250\" style=\"stroke: rgba(0, 0, 0, 0.1); stroke-width: 840;\"></line><line x1=\"-200\" y1=\"575\" x2=\"700\" y2=\"125\" style=\"stroke: rgba(0, 0, 0, 0.7); stroke-width: 2;\"></line></svg></div></div></div><style>body, html { margin-left: 0px; margin-right: 0px; }\n",
       "h1[data-v-5880b649] { font-family: Avenir, Helvetica, Arial, sans-serif; text-align: center; }\n",
       "#traces[data-v-5880b649] { display: flex; -moz-box-orient: horizontal; -moz-box-direction: normal; flex-flow: row wrap; }\n",
       "#app { font-family: Avenir, Helvetica, Arial, sans-serif; color: rgb(44, 62, 80); }</style>"
      ]
     },
     "execution_count": 2,
     "metadata": {},
     "output_type": "execute_result"
    }
   ],
   "source": [
    "(viz/put-trace! vid2 trace-0)\n",
    "(viz/put-trace! vid2 trace-1)\n",
    "\n",
    "(notebook/display-in-notebook vid2)"
   ]
  },
  {
   "cell_type": "markdown",
   "metadata": {},
   "source": [
    "### Save visualization outside the notebook\n",
    "Note that the path to the file to save is from the root of the server clojure process, not the root of the notebook."
   ]
  },
  {
   "cell_type": "code",
   "execution_count": null,
   "metadata": {},
   "outputs": [],
   "source": [
    "(viz/save-to-file vid \"tutorial/example-viz.html\")"
   ]
  },
  {
   "cell_type": "markdown",
   "metadata": {},
   "source": [
    "### Remove traces from visualization\n",
    "Note that the static visualization (from `display-in-notebook`) is unaffected, but the dynamic visualzation (from `open-in-notebook`) is"
   ]
  },
  {
   "cell_type": "code",
   "execution_count": null,
   "metadata": {},
   "outputs": [],
   "source": [
    "(viz/delete-trace! vid t0-id)\n",
    "(viz/delete-trace! vid t1-id)"
   ]
  },
  {
   "cell_type": "markdown",
   "metadata": {},
   "source": [
    "### Stop the visualization server"
   ]
  },
  {
   "cell_type": "code",
   "execution_count": 7,
   "metadata": {},
   "outputs": [],
   "source": [
    "(viz/stop-server!)"
   ]
  },
  {
   "cell_type": "code",
   "execution_count": null,
   "metadata": {},
   "outputs": [],
   "source": []
  }
 ],
 "metadata": {
  "kernelspec": {
   "display_name": "Lein-Clojure",
   "language": "clojure",
   "name": "lein-clojure"
  },
  "language_info": {
   "file_extension": ".clj",
   "mimetype": "text/x-clojure",
   "name": "clojure",
   "version": "1.9.0"
  }
 },
 "nbformat": 4,
 "nbformat_minor": 2
}
