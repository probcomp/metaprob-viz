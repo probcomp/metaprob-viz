{
 "cells": [
  {
   "cell_type": "code",
   "execution_count": 1,
   "metadata": {},
   "outputs": [],
   "source": [
    "(ns demo\n",
    "  (:require [metaprob-viz.notebook :as notebook]\n",
    "            [metaprob-viz.viz :as viz]))"
   ]
  },
  {
   "cell_type": "code",
   "execution_count": 2,
   "metadata": {},
   "outputs": [
    {
     "data": {
      "text/plain": [
       "#function[clojure.lang.AFunction/1]"
      ]
     },
     "execution_count": 2,
     "metadata": {},
     "output_type": "execute_result"
    }
   ],
   "source": [
    ";; start visualization server.\n",
    "(viz/start-server! 8081)"
   ]
  },
  {
   "cell_type": "code",
   "execution_count": 3,
   "metadata": {},
   "outputs": [
    {
     "data": {
      "text/plain": [
       "#'demo/vid"
      ]
     },
     "execution_count": 3,
     "metadata": {},
     "output_type": "execute_result"
    }
   ],
   "source": [
    ";; declare a visualization, using the \"dist\" renderer, available at\n",
    ";; the indicated path from the root of this repo.\n",
    "(def vid (viz/add-viz! \"public/vue/dist/\" [[-2.0 -1.0    0 1.0 2.0]\n",
    "                                           [-2.0 -1.0    0 1.0 2.0]]))"
   ]
  },
  {
   "cell_type": "code",
   "execution_count": 4,
   "metadata": {},
   "outputs": [
    {
     "data": {
      "text/plain": [
       "\"http://127.0.0.1:8081/f370fd77-bd50-4663-811e-56c6adf6b658/\""
      ]
     },
     "execution_count": 4,
     "metadata": {},
     "output_type": "execute_result"
    }
   ],
   "source": [
    "(viz/viz-url vid)"
   ]
  },
  {
   "cell_type": "code",
   "execution_count": 5,
   "metadata": {},
   "outputs": [
    {
     "data": {
      "text/html": [
       "<iframe frameBorder=\"0\" height=\"600\" src=\"http://127.0.0.1:8081/f370fd77-bd50-4663-811e-56c6adf6b658/\" width=\"100%\"></iframe>"
      ]
     },
     "execution_count": 5,
     "metadata": {},
     "output_type": "execute_result"
    }
   ],
   "source": [
    "(notebook/open-in-notebook vid)"
   ]
  },
  {
   "cell_type": "code",
   "execution_count": 6,
   "metadata": {},
   "outputs": [
    {
     "data": {
      "text/plain": [
       "#'demo/t1-id"
      ]
     },
     "execution_count": 6,
     "metadata": {},
     "output_type": "execute_result"
    }
   ],
   "source": [
    "\n",
    ";; define a couple of example traces\n",
    "(def trace-0 {:slope 1.4\n",
    "              :intercept 0\n",
    "              :inlier_std 0.2\n",
    "              :outlier_std 1.2\n",
    "              :outliers [false false true false true]})\n",
    "\n",
    "(def trace-1 {:slope 0.5\n",
    "              :intercept -1\n",
    "              :inlier_std 0.1\n",
    "              :outlier_std 2.1\n",
    "              :outliers [false false true false true]})\n",
    "\n",
    ";; add those traces to the visualization\n",
    ";; if you view your browser now, you should see those visualizations\n",
    "(def t0-id (viz/put-trace! vid trace-0))\n",
    "(def t1-id (viz/put-trace! vid trace-1))"
   ]
  },
  {
   "cell_type": "code",
   "execution_count": 7,
   "metadata": {},
   "outputs": [
    {
     "data": {
      "text/plain": [
       "\"abda988d-3f84-40b1-a4c3-7f1a0f9cac13\""
      ]
     },
     "execution_count": 7,
     "metadata": {},
     "output_type": "execute_result"
    }
   ],
   "source": [
    ";; put-trace! takes an optional third argument- a trace ID. Reusing an\n",
    ";; existing trace ID may lead the renderer to update the exisint trace\n",
    ";; in place, enabling animation. This example will replace trace-1's\n",
    ";; plot with trace-0's data:\n",
    "(viz/put-trace! vid trace-0 t1-id)"
   ]
  },
  {
   "cell_type": "code",
   "execution_count": 8,
   "metadata": {},
   "outputs": [
    {
     "data": {
      "text/plain": [
       "\"abda988d-3f84-40b1-a4c3-7f1a0f9cac13\""
      ]
     },
     "execution_count": 8,
     "metadata": {},
     "output_type": "execute_result"
    }
   ],
   "source": [
    ";; and this will return the plot to trace-1's data:\n",
    "(viz/put-trace! vid trace-1 t1-id)"
   ]
  },
  {
   "cell_type": "code",
   "execution_count": null,
   "metadata": {},
   "outputs": [],
   "source": [
    ";; fetch the static HTML of the visualization\n",
    "(viz/get-html vid)\n",
    "\n",
    ";; remove both traces\n",
    "(viz/delete-trace! vid t0-id)\n",
    "(viz/delete-trace! vid t1-id)\n",
    "\n",
    "(viz/stop-server!)\n"
   ]
  }
 ],
 "metadata": {
  "kernelspec": {
   "display_name": "Lein-Clojure",
   "language": "clojure",
   "name": "lein-clojure"
  },
  "language_info": {
   "file_extension": ".clj",
   "mimetype": "text/x-clojure",
   "name": "clojure",
   "version": "1.9.0"
  }
 },
 "nbformat": 4,
 "nbformat_minor": 2
}
