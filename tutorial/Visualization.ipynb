{
 "cells": [
  {
   "cell_type": "code",
   "execution_count": 1,
   "metadata": {},
   "outputs": [],
   "source": [
    "(ns demo\n",
    "  (:require [metaprob-viz.notebook :as notebook]\n",
    "            [metaprob-viz.viz :as viz]))"
   ]
  },
  {
   "cell_type": "markdown",
   "metadata": {},
   "source": [
    "### start visualization server.\n",
    "The second argument is the port on which the server should listen."
   ]
  },
  {
   "cell_type": "code",
   "execution_count": 2,
   "metadata": {},
   "outputs": [
    {
     "data": {
      "text/plain": [
       "#function[clojure.lang.AFunction/1]"
      ]
     },
     "execution_count": 2,
     "metadata": {},
     "output_type": "execute_result"
    }
   ],
   "source": [
    "(viz/start-server! 8081)"
   ]
  },
  {
   "cell_type": "markdown",
   "metadata": {},
   "source": [
    "### declare a visualization\n",
    "\n",
    "There must be a \"renderer\" available at the indicated path (relative to the root of the running server process). "
   ]
  },
  {
   "cell_type": "code",
   "execution_count": 3,
   "metadata": {},
   "outputs": [
    {
     "data": {
      "text/plain": [
       "#'demo/vid"
      ]
     },
     "execution_count": 3,
     "metadata": {},
     "output_type": "execute_result"
    }
   ],
   "source": [
    "(def vid (viz/add-viz! \"public/vue/dist/\" [[-2.0 -1.0    0 1.0 2.0]\n",
    "                                           [-2.0 -1.0    0 1.0 2.0]]))"
   ]
  },
  {
   "cell_type": "code",
   "execution_count": 4,
   "metadata": {},
   "outputs": [
    {
     "data": {
      "text/plain": [
       "\"http://127.0.0.1:8081/48adf7ab-2644-4eed-81ba-1be265af2f45/\""
      ]
     },
     "execution_count": 4,
     "metadata": {},
     "output_type": "execute_result"
    }
   ],
   "source": [
    "(viz/viz-url vid)"
   ]
  },
  {
   "cell_type": "markdown",
   "metadata": {},
   "source": [
    "### open the visualization in this notebook\n",
    "This will update in real time as it's updated. Initially there's nothing to visualize, so it'll be empty"
   ]
  },
  {
   "cell_type": "code",
   "execution_count": 5,
   "metadata": {},
   "outputs": [
    {
     "data": {
      "text/html": [
       "<iframe frameBorder=\"0\" height=\"600\" src=\"http://127.0.0.1:8081/48adf7ab-2644-4eed-81ba-1be265af2f45/\" width=\"100%\"></iframe>"
      ]
     },
     "execution_count": 5,
     "metadata": {},
     "output_type": "execute_result"
    }
   ],
   "source": [
    "(notebook/open-in-notebook vid)"
   ]
  },
  {
   "cell_type": "markdown",
   "metadata": {},
   "source": [
    "### Open visualization in popup\n",
    "In certain instances, you may want to open this visualization in popup window. We can't do that programmatically, but we can provide a link to the user so they can do it themselves."
   ]
  },
  {
   "cell_type": "code",
   "execution_count": null,
   "metadata": {},
   "outputs": [],
   "source": [
    "(notebook/open-in-popup vid)"
   ]
  },
  {
   "cell_type": "markdown",
   "metadata": {},
   "source": [
    "### Add traces to visualization\n",
    "First we'll define a couple of example traces, then we'll use `put-trace!` to add them to the visualization."
   ]
  },
  {
   "cell_type": "code",
   "execution_count": 6,
   "metadata": {},
   "outputs": [
    {
     "data": {
      "text/plain": [
       "#'demo/t1-id"
      ]
     },
     "execution_count": 6,
     "metadata": {},
     "output_type": "execute_result"
    }
   ],
   "source": [
    ";; define a couple of example traces\n",
    "(def trace-0 {:slope 1.4\n",
    "              :intercept 0\n",
    "              :inlier_std 0.2\n",
    "              :outlier_std 1.2\n",
    "              :outliers [false false true false true]})\n",
    "\n",
    "(def trace-1 {:slope 0.5\n",
    "              :intercept -1\n",
    "              :inlier_std 0.1\n",
    "              :outlier_std 2.1\n",
    "              :outliers [false false true false true]})\n",
    "\n",
    ";; add those traces to the visualization\n",
    "(def t0-id (viz/put-trace! vid trace-0))\n",
    "(def t1-id (viz/put-trace! vid trace-1))"
   ]
  },
  {
   "cell_type": "markdown",
   "metadata": {},
   "source": [
    "### Update existing trace\n",
    "`put-trace!` takes an optional third argument- a trace ID. With the `dist` renderer, reusing an existing trace ID will lead the renderer to update the existing trace in place, enabling animation. This example will replace trace-1's\n",
    "plot with trace-0's data:"
   ]
  },
  {
   "cell_type": "code",
   "execution_count": 7,
   "metadata": {},
   "outputs": [
    {
     "data": {
      "text/plain": [
       "\"05b760d1-7ae3-4653-9a27-2c7160d70f45\""
      ]
     },
     "execution_count": 7,
     "metadata": {},
     "output_type": "execute_result"
    }
   ],
   "source": [
    "(viz/put-trace! vid trace-0 t1-id)"
   ]
  },
  {
   "cell_type": "markdown",
   "metadata": {},
   "source": [
    "...and this will return the plot to trace-1's data:"
   ]
  },
  {
   "cell_type": "code",
   "execution_count": 8,
   "metadata": {},
   "outputs": [
    {
     "data": {
      "text/plain": [
       "\"05b760d1-7ae3-4653-9a27-2c7160d70f45\""
      ]
     },
     "execution_count": 8,
     "metadata": {},
     "output_type": "execute_result"
    }
   ],
   "source": [
    "(viz/put-trace! vid trace-1 t1-id)"
   ]
  },
  {
   "cell_type": "markdown",
   "metadata": {},
   "source": [
    "### Add static trace with display-in-notebook\n",
    "`display-in-notebook` adds a static version of a visualization to the notebook. \n",
    "\n",
    "This function requires that either `open-in-tab` or `open-in-notebook` has been previously called with this visualization ID."
   ]
  },
  {
   "cell_type": "code",
   "execution_count": null,
   "metadata": {},
   "outputs": [],
   "source": [
    "(def vid2 (viz/add-viz! \"public/vue/dist/\" [[-2.0 -1.0    0 1.0 2.0]\n",
    "                                           [-2.0 -1.0    0 1.0 2.0]]))\n",
    "\n",
    "(notebook/open-in-popup vid2)"
   ]
  },
  {
   "cell_type": "code",
   "execution_count": null,
   "metadata": {},
   "outputs": [],
   "source": [
    "(viz/put-trace! vid2 trace-0)\n",
    "(viz/put-trace! vid2 trace-1)\n",
    "\n",
    "(notebook/display-in-notebook vid2)"
   ]
  },
  {
   "cell_type": "markdown",
   "metadata": {},
   "source": [
    "### Save visualization outside the notebook\n",
    "Note that the path to the file to save is from the root of the server clojure process, not the root of the notebook."
   ]
  },
  {
   "cell_type": "code",
   "execution_count": null,
   "metadata": {},
   "outputs": [],
   "source": [
    "(viz/save-to-file vid \"tutorial/example-viz.html\")"
   ]
  },
  {
   "cell_type": "markdown",
   "metadata": {},
   "source": [
    "### Remove traces from visualization\n",
    "Note that the static visualization (from `display-in-notebook`) is unaffected, but the dynamic visualzation (from `open-in-notebook`) is"
   ]
  },
  {
   "cell_type": "code",
   "execution_count": null,
   "metadata": {},
   "outputs": [],
   "source": [
    "(viz/delete-trace! vid t0-id)\n",
    "(viz/delete-trace! vid t1-id)"
   ]
  },
  {
   "cell_type": "markdown",
   "metadata": {},
   "source": [
    "### Stop the visualization server"
   ]
  },
  {
   "cell_type": "code",
   "execution_count": null,
   "metadata": {},
   "outputs": [],
   "source": [
    "(viz/stop-server!)"
   ]
  }
 ],
 "metadata": {
  "kernelspec": {
   "display_name": "Lein-Clojure",
   "language": "clojure",
   "name": "lein-clojure"
  },
  "language_info": {
   "file_extension": ".clj",
   "mimetype": "text/x-clojure",
   "name": "clojure",
   "version": "1.9.0"
  }
 },
 "nbformat": 4,
 "nbformat_minor": 2
}
